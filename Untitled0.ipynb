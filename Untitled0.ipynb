{
  "nbformat": 4,
  "nbformat_minor": 0,
  "metadata": {
    "colab": {
      "name": "Untitled0.ipynb",
      "provenance": [],
      "toc_visible": true,
      "collapsed_sections": [],
      "authorship_tag": "ABX9TyNHbgjenkHQ2T6yblkpZnlR",
      "include_colab_link": true
    },
    "kernelspec": {
      "name": "python3",
      "display_name": "Python 3"
    },
    "language_info": {
      "name": "python"
    }
  },
  "cells": [
    {
      "cell_type": "markdown",
      "metadata": {
        "id": "view-in-github",
        "colab_type": "text"
      },
      "source": [
        "<a href=\"https://colab.research.google.com/github/Gorduxo-Max/Gorduxo-Max/blob/main/Untitled0.ipynb\" target=\"_parent\"><img src=\"https://colab.research.google.com/assets/colab-badge.svg\" alt=\"Open In Colab\"/></a>"
      ]
    },
    {
      "cell_type": "code",
      "execution_count": 40,
      "metadata": {
        "id": "tPd30DReU7Lr",
        "colab": {
          "base_uri": "https://localhost:8080/"
        },
        "outputId": "57b31658-df67-4fd8-ae78-a67adbb7fd25"
      },
      "outputs": [
        {
          "output_type": "stream",
          "name": "stdout",
          "text": [
            "Digite a fórmula geral da equação linear (a * x + B ): 2\n",
            "\n",
            "A entrada do usuário 2 é do tipo <class 'str'>\n",
            "\n",
            "Resultado da equacao para x = 0 é 2\n",
            "\n",
            "Resultado da equacao para x = 1 é 2\n",
            "\n",
            "Resultado da equacao para x = 2 é 2\n",
            "\n",
            "Resultado da equacao para x = 3 é 2\n",
            "\n",
            "Resultado da equacao para x = 4 é 2\n"
          ]
        }
      ],
      "source": [
        "a = 2\n",
        "b = 1\n",
        "\n",
        "equacao = input(\"Digite a fórmula geral da equação linear (a * x + B ): \")\n",
        "print(f\"\\nA entrada do usuário {equacao} é do tipo {type(equacao)}\")\n",
        "\n",
        "for x in range(5):\n",
        "    y = eval(equacao)\n",
        "    print(f\"\\nResultado da equacao para x = {x} é {y}\")\n"
      ]
    }
  ]
}